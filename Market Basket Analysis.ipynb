{
 "cells": [
  {
   "cell_type": "code",
   "execution_count": 1,
   "id": "9167714d-d83e-41e2-97bc-eb42968e12cb",
   "metadata": {},
   "outputs": [],
   "source": [
    "import pandas as pd\n",
    "from mlxtend.frequent_patterns import apriori, association_rules"
   ]
  },
  {
   "cell_type": "code",
   "execution_count": 2,
   "id": "635de642-cf03-4908-b3c4-4576b49b9d41",
   "metadata": {},
   "outputs": [
    {
     "name": "stdout",
     "output_type": "stream",
     "text": [
      "Dataset Loaded: (522064, 7)\n"
     ]
    },
    {
     "name": "stderr",
     "output_type": "stream",
     "text": [
      "C:\\Users\\RAGHAV VYAS\\AppData\\Local\\Temp\\ipykernel_5932\\1338914535.py:2: DtypeWarning: Columns (0) have mixed types. Specify dtype option on import or set low_memory=False.\n",
      "  df = pd.read_csv(\"Dataset.csv\")   # <-- replace with your file path\n"
     ]
    }
   ],
   "source": [
    "df = pd.read_csv(\"Dataset.csv\")\n",
    "print(\"Dataset Loaded:\", df.shape)"
   ]
  },
  {
   "cell_type": "code",
   "execution_count": 4,
   "id": "62f0f32f-b3f3-47c8-83cd-ad3aa7881f3b",
   "metadata": {},
   "outputs": [],
   "source": [
    "df.dropna(subset=[\"BillNo\", \"Itemname\"], inplace=True)\n",
    "df[\"BillNo\"] = df[\"BillNo\"].astype(str)"
   ]
  },
  {
   "cell_type": "code",
   "execution_count": 5,
   "id": "7b699c77-fdf0-42b5-9894-6b6f5ca9d897",
   "metadata": {},
   "outputs": [],
   "source": [
    "basket = (df.groupby([\"BillNo\", \"Itemname\"])[\"Quantity\"]\n",
    "            .sum().unstack().fillna(0))"
   ]
  },
  {
   "cell_type": "code",
   "execution_count": 6,
   "id": "b1a4cd96-50c7-4d87-889d-e2d6a72b3c30",
   "metadata": {},
   "outputs": [
    {
     "name": "stderr",
     "output_type": "stream",
     "text": [
      "C:\\Users\\RAGHAV VYAS\\AppData\\Local\\Temp\\ipykernel_5932\\2568247991.py:2: FutureWarning: DataFrame.applymap has been deprecated. Use DataFrame.map instead.\n",
      "  basket = basket.applymap(lambda x: 1 if x > 0 else 0)\n"
     ]
    }
   ],
   "source": [
    "basket = basket.applymap(lambda x: 1 if x > 0 else 0)"
   ]
  },
  {
   "cell_type": "code",
   "execution_count": 7,
   "id": "7137c2a3-eb03-4061-b639-2881785d2be9",
   "metadata": {},
   "outputs": [
    {
     "name": "stderr",
     "output_type": "stream",
     "text": [
      "C:\\Users\\RAGHAV VYAS\\anaconda3\\Lib\\site-packages\\mlxtend\\frequent_patterns\\fpcommon.py:161: DeprecationWarning: DataFrames with non-bool types result in worse computationalperformance and their support might be discontinued in the future.Please use a DataFrame with bool type\n",
      "  warnings.warn(\n"
     ]
    }
   ],
   "source": [
    "frequent_itemsets = apriori(basket, min_support=0.02, use_colnames=True)"
   ]
  },
  {
   "cell_type": "code",
   "execution_count": 8,
   "id": "9f4fc8ae-989d-4d12-ab41-39eada8b2998",
   "metadata": {},
   "outputs": [],
   "source": [
    "rules = association_rules(frequent_itemsets, metric=\"lift\", min_threshold=1)"
   ]
  },
  {
   "cell_type": "code",
   "execution_count": 10,
   "id": "0f66bc53-f85c-4777-8dcc-e893d7f8ff32",
   "metadata": {},
   "outputs": [
    {
     "name": "stdout",
     "output_type": "stream",
     "text": [
      "\n",
      "Top Frequent Itemsets:\n",
      "    support                           itemsets\n",
      "0  0.022615         (3 STRIPEY MICE FELTCRAFT)\n",
      "1  0.022961      (4 TRADITIONAL SPINNING TOPS)\n",
      "2  0.046615           (6 RIBBONS RUSTIC CHARM)\n",
      "3  0.020635  (60 CAKE CASES DOLLY GIRL DESIGN)\n",
      "4  0.029691  (60 CAKE CASES VINTAGE CHRISTMAS)\n",
      "5  0.039489      (60 TEATIME FAIRY CAKE CASES)\n",
      "6  0.029295   (72 SWEETHEART FAIRY CAKE CASES)\n",
      "7  0.020635   (ALARM CLOCK BAKELIKE CHOCOLATE)\n",
      "8  0.047852       (ALARM CLOCK BAKELIKE GREEN)\n",
      "9  0.027761       (ALARM CLOCK BAKELIKE IVORY)\n"
     ]
    }
   ],
   "source": [
    "print(\"\\nTop Frequent Itemsets:\")\n",
    "print(frequent_itemsets.head(10))"
   ]
  },
  {
   "cell_type": "code",
   "execution_count": 11,
   "id": "7adbd135-8bc9-4d84-b056-ec0d2104988a",
   "metadata": {},
   "outputs": [
    {
     "name": "stdout",
     "output_type": "stream",
     "text": [
      "\n",
      "Top Association Rules:\n",
      "                         antecedents                        consequents  \\\n",
      "0  (PACK OF 72 RETROSPOT CAKE CASES)      (60 TEATIME FAIRY CAKE CASES)   \n",
      "1      (60 TEATIME FAIRY CAKE CASES)  (PACK OF 72 RETROSPOT CAKE CASES)   \n",
      "2        (ALARM CLOCK BAKELIKE PINK)       (ALARM CLOCK BAKELIKE GREEN)   \n",
      "3       (ALARM CLOCK BAKELIKE GREEN)        (ALARM CLOCK BAKELIKE PINK)   \n",
      "4       (ALARM CLOCK BAKELIKE GREEN)         (ALARM CLOCK BAKELIKE RED)   \n",
      "5         (ALARM CLOCK BAKELIKE RED)       (ALARM CLOCK BAKELIKE GREEN)   \n",
      "6        (ALARM CLOCK BAKELIKE PINK)         (ALARM CLOCK BAKELIKE RED)   \n",
      "7         (ALARM CLOCK BAKELIKE RED)        (ALARM CLOCK BAKELIKE PINK)   \n",
      "8      (CHARLOTTE BAG PINK POLKADOT)        (CHARLOTTE BAG SUKI DESIGN)   \n",
      "9        (CHARLOTTE BAG SUKI DESIGN)      (CHARLOTTE BAG PINK POLKADOT)   \n",
      "\n",
      "    support  confidence       lift  \n",
      "0  0.021526    0.340109   8.612697  \n",
      "1  0.021526    0.545113   8.612697  \n",
      "2  0.020338    0.541502  11.316103  \n",
      "3  0.020338    0.425026  11.316103  \n",
      "4  0.031324    0.654602  12.880423  \n",
      "5  0.031324    0.616358  12.880423  \n",
      "6  0.022466    0.598155  11.769743  \n",
      "7  0.022466    0.442064  11.769743  \n",
      "8  0.020190    0.552846  12.767889  \n",
      "9  0.020190    0.466286  12.767889  \n"
     ]
    }
   ],
   "source": [
    "print(\"\\nTop Association Rules:\")\n",
    "print(rules[['antecedents','consequents','support','confidence','lift']].head(10))"
   ]
  },
  {
   "cell_type": "code",
   "execution_count": null,
   "id": "5a221d35-2566-468f-a55f-c7ecf1116df8",
   "metadata": {},
   "outputs": [],
   "source": []
  }
 ],
 "metadata": {
  "kernelspec": {
   "display_name": "Python 3 (ipykernel)",
   "language": "python",
   "name": "python3"
  },
  "language_info": {
   "codemirror_mode": {
    "name": "ipython",
    "version": 3
   },
   "file_extension": ".py",
   "mimetype": "text/x-python",
   "name": "python",
   "nbconvert_exporter": "python",
   "pygments_lexer": "ipython3",
   "version": "3.12.4"
  }
 },
 "nbformat": 4,
 "nbformat_minor": 5
}
